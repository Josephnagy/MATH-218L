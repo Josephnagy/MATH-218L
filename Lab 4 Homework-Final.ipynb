{
 "cells": [
  {
   "cell_type": "markdown",
   "metadata": {},
   "source": [
    "In today's class, you solved the exact same system of equations using LU as you did last week using row-reduction of an augmented matrix and back substitution. It certainly seems you had to do more work this time when you already had a way of solving equations. What is the advantage of using LU decomposition? This homework will explore this question.\n",
    "\n",
    "> ## Make a copy of this notebook (File menu -> Make a Copy...)\n",
    "\n",
    "Suppose that you are doing the same experiment on a number of different samples. You measure your outputs at the same time points, but get different results each time, depending on your sample. You want to fit polynomials to each of your data sets. As we saw when we fitted polynomials to data, this will involve solving an equation $Ax=b$ for different $b$'s, but always the same $A$.\n",
    "\n",
    "Consider the following table, showing the results of three such experiments:\n",
    "\n",
    "$t$ | 1 | 2 | 3 | 4 | 5 | 6 | 7\n",
    "--- | :---: | :---: | :---: |:---: |:---: |:---: |:---: |\n",
    "$y_1$ | 10 | 15 | -1 | 2 | -4 | 5 | 10\n",
    "$y_2$ | 10 | 13 | 0 | 2 | -3 | 5 | 11\n",
    "$y_3$ | 11 | 14 | -1 | 3 | -5 | 4 | 9\n",
    "\n",
    "We will fit polynomials to each of these and compare using row-reduction and back-substitution to LU decomposition. To do so, we'll need to do the following:\n",
    "* Understand the role of pivoting.<br><br>\n",
    "* Solve the equations using row-reduction and back-substitution.<br><br>\n",
    "* Lastly, compare this to solving them using LU decomposition, followed by forward- and back-substitution.\n",
    "\n",
    "## Pivoting\n",
    "\n",
    "Recall that LU decomposition with pivoting takes a matrix $A$ and returns matrices $P$, $L$, and $U$ so that $$PA=LU$$\n",
    "\n",
    "We are trying to solve $Ax=v$. If we have a matrix $P$, then we can multiply both sides by it to get $$PAx=Pv$$ But $PA=LU$, so this is equivalent to $$LUx=Pv.$$\n",
    "\n",
    "So all we need to do is multiply our $v$ by $P$ before we begin foward- or back-substitutions! Remember that each row in an augmented matrix represents one of the equations in the system. So all we are really doing here is swapping around the equations."
   ]
  },
  {
   "cell_type": "markdown",
   "metadata": {},
   "source": [
    "### Homework Question 1 \n",
    "\n",
    "Use your row-reduction code and your `backsub(U,v)` function to find the coefficients of a sixth degree polynomial that fits each of the above data sets. In each case, this will involve solving $Ax=b$. \n",
    "1. Explain why the matrix $A$ is the same in each case. What is it?<br><br>\n",
    "1. Write down the sixth degree polynomials in each case. Write the coefficients of each power to two decimal places.\n",
    "\n",
    "\n",
    "</p> **Answer to Question 1.1** The matrix A does not change for the different cases because it is the polynomial equation which is set to fit the whole system, and is not changed by the distinct values of 'b'. For a polynomial the matrix A is a formal representation of (x^y, x^(y-1),x^(y-2), x^(y-3),... x^1, 1). We subsequently solve to get a set of coefficients which fit this matrix, by the method of RREF and backsubstitution outlined in the question <p>\n"
   ]
  },
  {
   "cell_type": "code",
   "execution_count": 126,
   "metadata": {},
   "outputs": [
    {
     "name": "stdout",
     "output_type": "stream",
     "text": [
      "Polynomial for y1 = -0.30x^6 + 7.27x^5 + -70.09x^4 + 339.48x^3 + -859.61x^2 + 1052.25x^1 + -459.00x^0\n",
      "Polynomial for y2 = -0.24x^6 + 5.81x^5 + -55.89x^4 + 270.12x^3 + -682.37x^2 + 832.57x^1 + -360.00x^0\n",
      "Polynomial for y3 = -0.33x^6 + 8.01x^5 + -76.68x^4 + 368.12x^3 + -921.99x^2 + 1114.87x^1 + -481.00x^0\n"
     ]
    }
   ],
   "source": [
    "\n",
    "\n",
    "import numpy as np\n",
    "#function to swap two rows given matrix and indices\n",
    "def swaprows(As,i,j):\n",
    "    As[[i,j]] = As[[j,i]] #swap rows\n",
    "    return As\n",
    "\n",
    "#function to add mutliple (c) of row i to row j of matrix A\n",
    "def rowaddmult(Am,i,j,c):\n",
    "    Am[j] += c * Am[i] #perform row replacement\n",
    "    return Am\n",
    "#function performs the row reduction with pivoting to produce an upper triangular matrix\n",
    "def rowredpivot(Ax):\n",
    "    r,c = Ax.shape\n",
    "    for x in range(r):\n",
    "        if x < r-1:\n",
    "            pivot = np.argmax(np.absolute(Ax[x:,x]))+x\n",
    "            if type(pivot)==type(Ax):\n",
    "                pivot = pivot[0]\n",
    "            swaprows(Ax,x,pivot)\n",
    "           \n",
    "        for y in range(x+1, r):\n",
    "            c = Ax[y,x]/Ax[x,x]\n",
    "            rowaddmult(Ax, x, y, -c)\n",
    "    return Ax\n",
    "\n",
    "#function backsubstitutes to return an answer to v\n",
    "def backsub(U, v):\n",
    "    r,c = U.shape\n",
    "    for x in reversed(range(0,r)):\n",
    "        # use the dot product method of back substitution\n",
    "        v[x] -= v[x+1:r]@U[x,x+1:c]\n",
    "        # make value equal to one\n",
    "        v[x] /= U[x,x]\n",
    "    return v\n",
    "\n",
    "# #Main body of new code\n",
    "a = np.array([10,15,-1,2,-4,5,10]).astype(float)\n",
    "b = np.array([10,13,0,2,-3,5,11]).astype(float)\n",
    "c = np.array([11,14,-1,3,-5,4,9]).astype(float)\n",
    "\n",
    "x = np.array([1,2,3,4,5,6,7]).astype('float')\n",
    "\n",
    "A = np.ones((7,8)).astype('float')\n",
    "B = A.copy()\n",
    "C = A.copy()\n",
    "\n",
    "A[:,7] = a\n",
    "B[:,7] = b\n",
    "C[:,7] = c\n",
    "\n",
    "for i in range(6):\n",
    "    for j in range(6-i):\n",
    "        A[:,i] *= x\n",
    "        B[:,i] *= x\n",
    "        C[:,i] *= x\n",
    "\n",
    "\n",
    "rowredpivot(A)\n",
    "rowredpivot(B)\n",
    "rowredpivot(C)\n",
    "\n",
    "\n",
    "va = A[:,-1].copy()\n",
    "backsub(A[:,0:-1],va)\n",
    "vb = B[:,-1].copy()\n",
    "backsub(B[:,0:-1], vb)\n",
    "vc = C[:,-1].copy()\n",
    "backsub(C[:,0:-1],vc)\n",
    "\n",
    "\n",
    "print(\"Polynomial for y1 = \" + polyPrinter(va))\n",
    "print(\"Polynomial for y2 = \" + polyPrinter(vb))\n",
    "print(\"Polynomial for y3 = \" + polyPrinter(vc))"
   ]
  },
  {
   "cell_type": "markdown",
   "metadata": {},
   "source": []
  },
  {
   "cell_type": "markdown",
   "metadata": {},
   "source": [
    "### Homework Question 2\n",
    "Write a function called `LUSolve(L,U,P,v)` that does the following given an LU decomposition of a matrix $A$:\n",
    "1. First, multiplies the vector $v$ by $P$, as we discussed was needed.<br><br>\n",
    "1. Solves $Ly=Pv$ by forward substition.<br><br>\n",
    "1. Lastly, solves $Ux=y$ to find the solution of $Ax=v$.\n",
    "\n",
    "Test your function on the data above. "
   ]
  },
  {
   "cell_type": "code",
   "execution_count": 130,
   "metadata": {},
   "outputs": [
    {
     "name": "stdout",
     "output_type": "stream",
     "text": [
      "True\n",
      "[-8.68402338e-03  1.99194213e-01 -1.77573403e+00  7.88939982e+00\n",
      " -1.82379791e+01  2.05016617e+01 -8.56785863e+00]\n",
      "[-9.55242572e-03  2.19113635e-01 -1.95330744e+00  8.67833981e+00\n",
      " -2.00617770e+01  2.25518279e+01 -9.42464449e+00]\n",
      "[-7.81562104e-03  1.79274792e-01 -1.59816063e+00  7.10045984e+00\n",
      " -1.64141812e+01  1.84514956e+01 -7.71107277e+00]\n"
     ]
    }
   ],
   "source": [
    "def fwdsub(L, v):\n",
    "    r,c = U.shape\n",
    "    for x in range(0,r):\n",
    "        # use the dot product method of back substitution\n",
    "        v[x] -= v[x-1:r]@L[x,x-1:c]\n",
    "        # make value equal to one\n",
    "        v[x] /= L[x,x]\n",
    "        \n",
    "\n",
    "        \n",
    "def LU(Ax):\n",
    "    U = Ax.copy()\n",
    "    L = np.zeros_like(Ax)\n",
    "    P = L.copy()\n",
    "    np.fill_diagonal(P, 1.)\n",
    "    r,c = U.shape\n",
    "    for x in range(r):\n",
    "        if x < r-1:\n",
    "            pivot = np.argmax(np.absolute(Ax[x:,x]))+x\n",
    "            if type(pivot)==type(Ax):\n",
    "                pivot = pivot[0]\n",
    "            swaprows(U,x,pivot)\n",
    "            swaprows(L,x,pivot)\n",
    "            swaprows(P,x,pivot)\n",
    "        for y in range(x+1, r):\n",
    "            c = U[y,x]/U[x,x]\n",
    "            rowaddmult(U, x, y, -c)\n",
    "            L[y,x] = c\n",
    "    np.fill_diagonal(L, 1.)\n",
    "    return (L,U,P)\n",
    "\n",
    "A = np.ones((7,7)).astype('float')\n",
    "for i in range(6):\n",
    "    for j in range(6-i):\n",
    "        A[:,i] *= x\n",
    "\n",
    "L,U,P = LU(A)\n",
    "\n",
    "\n",
    "\n",
    "def LUSolve(L, U, P, v):\n",
    "    #Step 1\n",
    "    v = P@v\n",
    "    #Step 2\n",
    "    y = fwdsub(L, v)\n",
    "    print\n",
    "    #Step 3\n",
    "    backsub(U, v)\n",
    "    return v\n",
    "\n",
    "print(np.allclose(P@A,L@U))\n",
    "print(LUSolve(L, U, P, a))\n",
    "print(LUSolve(L, U, P, b))\n",
    "print(LUSolve(L, U, P, c))\n",
    "\n"
   ]
  },
  {
   "cell_type": "code",
   "execution_count": null,
   "metadata": {},
   "outputs": [],
   "source": []
  },
  {
   "cell_type": "code",
   "execution_count": null,
   "metadata": {},
   "outputs": [],
   "source": []
  },
  {
   "cell_type": "markdown",
   "metadata": {},
   "source": [
    "Note that since the matrix $A$ is always the same, we only have to use our $LU$ decomposition code once! This is much faster than having to do the row-reduction over and over for each output vector. The LU decomposition encodes the process of row-reduction in the lower-triangular matrix $L$, thus avoiding the need to recompute it.\n",
    "\n",
    "Lastly, if you look at the data sets given above, you may notice that they are all quite similar to each other numerically. Yet the polynomials you generated are rather vastly different from each other. This is a serious problem. We say that the polynomial model has high *variance*. We will study this further in future labs.\n",
    "\n",
    "### Homework Question 3\n",
    "\n",
    "Write code that takes a set of *n* times (as a vector) and the outcomes of a number (say, *m*) of different experiments with measurements at those times (as an $m\\times n$ array), and returns the coefficients of polynomials that fit each set of measurements. Your code should use LU decomposition and your `LUSolve(L,U,P,v)` function to make it as efficient as possible. Test your code on the above data."
   ]
  },
  {
   "cell_type": "code",
   "execution_count": 136,
   "metadata": {},
   "outputs": [
    {
     "name": "stdout",
     "output_type": "stream",
     "text": [
      "Test Results: \n",
      "\n",
      "[-1.24057477e-03  2.84563162e-02 -2.53676291e-01  1.12705712e+00\n",
      " -2.60542558e+00  2.92880882e+00 -1.22397980e+00]\n",
      "[-1.36463225e-03  3.13019478e-02 -2.79043920e-01  1.23976283e+00\n",
      " -2.86596814e+00  3.22168970e+00 -1.34637778e+00]\n",
      "[-1.11651729e-03  2.56106846e-02 -2.28308661e-01  1.01435141e+00\n",
      " -2.34488302e+00  2.63592794e+00 -1.10158182e+00]\n"
     ]
    }
   ],
   "source": [
    "def PolyBuilder(times, outcomes):\n",
    "    sz = times.size\n",
    "    r,c = outcomes.shape\n",
    "   \n",
    "    x = times.copy().astype('float')\n",
    "    A = np.ones((sz,sz)).astype('float')\n",
    "\n",
    "    for i in range(sz):\n",
    "        for j in range(sz-i):\n",
    "            A[:,i] *= x\n",
    "           \n",
    "    L,U,P = LU(A)        \n",
    "           \n",
    "    for s in range(r):\n",
    "        vs = LUSolve(L,U,P,outcomes[s])\n",
    "        print(vs)\n",
    "       \n",
    "times = np.array([1,2,3,4,5,6,7])\n",
    "outcomes = np.array([[10,15,-1,2,-4,5,10],[10,13,0,2,-3,5,11],[11,14,-1,3,-5,4,9]])\n",
    "\n",
    "print(\"Test Results: \\n\")\n",
    "PolyBuilder(times,outcomes)"
   ]
  },
  {
   "cell_type": "markdown",
   "metadata": {},
   "source": [
    "### Homework Question 4 \n",
    "\n",
    "Suppose you have a number of different output vectors $\\vec{c}$ for the same set of equations. We have two different ways of solving $A\\vec{x}=\\vec{c}$:\n",
    "\n",
    "* Row reduce the augmented matrix $[A|\\vec{c}]$, then back substitute. Repeat for every different $\\vec{c}$.<br><br>\n",
    "\n",
    "* Find the $PA=LU$ decomposition of $A$, then use our `LUSolve(L,U,P,v)` function we wrote above.\n",
    "\n",
    "Explain why we expect the second method to be far more efficient than the first if we have many different output vectors."
   ]
  },
  {
   "cell_type": "markdown",
   "metadata": {},
   "source": [
    "</p>**Answer:** The second method is far more efficient as the first when we have many different outcomes because the PA=LU decomposition method saves computation. Specifically, the row reduction method has a runtime of O(n^3) every time the algorithm is used. In contrast, the PA=LU decomposition method only has a runtime of O(n^3) the **first** time it runs to solve for P,L,U. After these values are calculated, the runtime to solve the system is only O(n^2).<p>"
   ]
  },
  {
   "cell_type": "markdown",
   "metadata": {},
   "source": [
    "### Homework Question 5\n",
    "\n",
    "Let's examine once again the *LU* decomposition of the matrix from the last homework: $$A=\\begin{bmatrix} 10^{-4} & 0 & 10^4 \\\\ 10^4 & 10^{-4} & 0 \\\\ 0 & 10^4 & 1\\end{bmatrix}.$$\n",
    "\n",
    "As you saw in the lab, the code for *LU* decomposition without pivoting results in matrices *L* and *U* such that $A\\neq LU$.\n",
    "\n",
    "* By looking back at Question 4 from the lab and the work you did on floating point errors on Homework 3, explain exactly why you get the incorrect result you saw.\n",
    "\n",
    "* Compute by hand the *PA=LU* decomposition for this matrix. Do you still expect a floating point error to occur? Explain why in this case, we still get the right answer using our `LU(A)` code."
   ]
  },
  {
   "cell_type": "code",
   "execution_count": 143,
   "metadata": {},
   "outputs": [
    {
     "name": "stdout",
     "output_type": "stream",
     "text": [
      "[[1.e+04 1.e-04 0.e+00]\n",
      " [0.e+00 1.e+04 1.e+00]\n",
      " [0.e+00 0.e+00 1.e+04]]\n",
      "[[ 1.e+00  0.e+00  0.e+00]\n",
      " [ 0.e+00  1.e+00  0.e+00]\n",
      " [ 1.e-08 -1.e-16  1.e+00]]\n",
      "[[0. 1. 0.]\n",
      " [0. 0. 1.]\n",
      " [1. 0. 0.]]\n"
     ]
    }
   ],
   "source": [
    "A = np.array([[0.0001, 0, 10000],[10000,0.0001,0],[0,10000,1]])\n",
    "L,U,P = LU(A)\n",
    "print(U)\n",
    "print(L)\n",
    "print(P)"
   ]
  },
  {
   "cell_type": "markdown",
   "metadata": {},
   "source": [
    "</p>**Question 5.1:** As in the questions from homework 3, computing the $PA = LU$ decomposition for this matrix exceeded the precision allotted by Pythons representation of floats, thus truncation happens. \n",
    "\n",
    "**Question 5.2:** If we computed this by hand we would not experience a floating point error because when calculating the LU decomposition we do not have the same memory constraints as Python does, so we are not forced to truncate the values, hence complete accuracy. At the end of our LU(A) decomposition, we had a value which went beyond the maximum number of significant digits allowed in Python, so this error occured. We can see this comparing the results from LU(A) seen above, to the hand calculated results, outlined below, where the bottom right value of the U matrix has been truncated, as it was 10^-16. \n",
    "<p>\n",
    "\n",
    "<br><br>\n",
    "\n",
    "$\\begin{bmatrix}\n",
    "10^{-4} & 0 & 10^4\\\\\n",
    "10^4 & 10^{-4} & 0\\\\\n",
    "0 & 10^4 & 1\\\\\n",
    "\\end{bmatrix}$\n",
    "$\\begin{bmatrix}\n",
    "? & ? & ?\\\\\n",
    "? & ? & ?\\\\\n",
    "? & ? & ?\\\\\n",
    "\\end{bmatrix}$\n",
    "$\\begin{bmatrix}\n",
    "1 & 0 & 0\\\\\n",
    "0 & 1 & 0\\\\\n",
    "0 & 0 & 1\\\\\n",
    "\\end{bmatrix}$\n",
    "<br><br>\n",
    "$\\begin{bmatrix}\n",
    "10^4 & 10^{-4} & 0\\\\\n",
    "10^{-4} & 0 & 10^4\\\\\n",
    "0 & 10^4 & 1\\\\\n",
    "\\end{bmatrix}$\n",
    "$\\begin{bmatrix}\n",
    "? & ? & ?\\\\\n",
    "? & ? & ?\\\\\n",
    "? & ? & ?\\\\\n",
    "\\end{bmatrix}$\n",
    "$\\begin{bmatrix}\n",
    "0 & 1 & 0\\\\\n",
    "1 & 0 & 0\\\\\n",
    "0 & 0 & 1\\\\\n",
    "\\end{bmatrix}$\n",
    "<br><br>\n",
    "\n",
    "$\\begin{bmatrix}\n",
    "10^4 & 10^{-4} & 0\\\\\n",
    "0 & -10^{-12} & 10^4\\\\\n",
    "0 & 10^4 & 1\\\\\n",
    "\\end{bmatrix}$\n",
    "$\\begin{bmatrix}\n",
    "1 & ? & ?\\\\\n",
    "10^{-8} & ? & ?\\\\\n",
    "0 & ? & ?\\\\\n",
    "\\end{bmatrix}$\n",
    "$\\begin{bmatrix}\n",
    "0 & 1 & 0\\\\\n",
    "1 & 0 & 0\\\\\n",
    "0 & 0 & 1\\\\\n",
    "\\end{bmatrix}$\n",
    "<br><br>\n",
    "\n",
    "$\\begin{bmatrix}\n",
    "10^4 & 10^{-4} & 0\\\\\n",
    "0 & 10^4 & 1\\\\\n",
    "0 & -10^{-12} & 10^4\\\\\n",
    "\\end{bmatrix}$\n",
    "$\\begin{bmatrix}\n",
    "1 & ? & ?\\\\\n",
    "0 & ? & ?\\\\\n",
    "10^{-8} & ? & ?\\\\\n",
    "\\end{bmatrix}$\n",
    "$\\begin{bmatrix}\n",
    "0 & 1 & 0\\\\\n",
    "0 & 0 & 1\\\\\n",
    "1 & 0 & 0\\\\\n",
    "\\end{bmatrix}$\n",
    "<br><br>\n",
    "\n",
    "$\\begin{bmatrix}\n",
    "10^4 & 10^{-4} & 0\\\\\n",
    "0 & 10^4 & 1\\\\\n",
    "0 & 0 & 10^4 + 10^{-16}\\\\\n",
    "\\end{bmatrix}$\n",
    "$\\begin{bmatrix}\n",
    "1 & 0 & 0\\\\\n",
    "0 & 1 & 0\\\\\n",
    "10^{-8} & -10^{-16} & 1\\\\\n",
    "\\end{bmatrix}$\n",
    "$\\begin{bmatrix}\n",
    "0 & 1 & 0\\\\\n",
    "0 & 0 & 1\\\\\n",
    "1 & 0 & 0\\\\\n",
    "\\end{bmatrix}$\n",
    "<br><br>"
   ]
  },
  {
   "cell_type": "markdown",
   "metadata": {},
   "source": [
    "### Optional Bonus Question\n",
    "\n",
    "Write code that takes the coefficients of a polynomial and prints the polynomial with the coefficients printed to two decimal places. You should research Python functions that help you."
   ]
  },
  {
   "cell_type": "code",
   "execution_count": 144,
   "metadata": {},
   "outputs": [
    {
     "data": {
      "text/plain": [
       "'-0.30x^6 + 7.27x^5 + -70.09x^4 + 339.48x^3 + -859.61x^2 + 1052.25x^1 + -459.00x^0'"
      ]
     },
     "execution_count": 144,
     "metadata": {},
     "output_type": "execute_result"
    }
   ],
   "source": [
    "def polyPrinter(coefficients):\n",
    "    coefficients = np.around(coefficients, decimals=2)\n",
    "    polynomial = \"\"\n",
    "    for i in range(len(coefficients)):\n",
    "        polynomial += \"{0:.2f}\".format(coefficients[i]) + \"x^\" + str(len(coefficients) - i - 1) + \" + \"\n",
    "    return polynomial[0:-3]\n",
    "\n",
    "polyPrinter(va)\n",
    "\n"
   ]
  }
 ],
 "metadata": {
  "kernelspec": {
   "display_name": "Python 3",
   "language": "python",
   "name": "python3"
  },
  "language_info": {
   "codemirror_mode": {
    "name": "ipython",
    "version": 3
   },
   "file_extension": ".py",
   "mimetype": "text/x-python",
   "name": "python",
   "nbconvert_exporter": "python",
   "pygments_lexer": "ipython3",
   "version": "3.6.3"
  }
 },
 "nbformat": 4,
 "nbformat_minor": 2
}
