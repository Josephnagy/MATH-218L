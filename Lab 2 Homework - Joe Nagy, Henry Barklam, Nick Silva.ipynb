{
 "cells": [
  {
   "cell_type": "markdown",
   "metadata": {},
   "source": [
    "> ## Make a copy of this notebook (File menu -> Make a Copy...)\n",
    "\n",
    "### Homework Question 1\n",
    "\n",
    "By giving examples, explain all meanings of the `@` operator we covered in lab. You may use the examples from the lab. You should include both code and text explanation."
   ]
  },
  {
   "cell_type": "code",
   "execution_count": 52,
   "metadata": {},
   "outputs": [
    {
     "name": "stdout",
     "output_type": "stream",
     "text": [
      "22\n",
      "True\n",
      "\n",
      "[ 5 23 41]\n",
      "[ 3  9 15]\n",
      "\n",
      "[[22 26 12]\n",
      " [52 56 30]\n",
      " [82 86 48]]\n",
      "\n",
      "[[14 19 24]\n",
      " [38 46 54]\n",
      " [40 53 66]]\n"
     ]
    }
   ],
   "source": [
    "import numpy as np\n",
    "\n",
    "# Define arrays as used in the lab\n",
    "v = np.array([5,3,-2])\n",
    "w = np.array([1,5,-1])\n",
    "A = np.array([[1,2,3],[4,5,6],[7,8,9]])\n",
    "B = np.array([[3,1,1],[2,2,4],[5,7,1]])\n",
    "\n",
    "# Using the @ operator on two same-length vectors returns a scalar equal to the sum of the piecewise multiplied vectors\n",
    "print(v@w)\n",
    "print((v@w) == np.sum(v*w), end=\"\\n\\n\")\n",
    "\n",
    "# Using the @ operator on a vector and a matrix with column length or row length equal to the vector's size\n",
    "# When a matrix is first it uses a vector as a column and returns a vector with indices equal to the matrix rows * vector\n",
    "print(A@v)\n",
    "# When a vector is first it uses a vector as a row and returns a vector with indices equal to the vector * matrix cols\n",
    "print(v@A, end=\"\\n\\n\")\n",
    "\n",
    "# Using the @ operator on two matrices under the condition M1.row_length == M2.col_length\n",
    "# The operation treats each row in M1 as a vector as above and creates a 2d array.\n",
    "print(A@B, end=\"\\n\\n\")\n",
    "print(B@A)"
   ]
  },
  {
   "cell_type": "markdown",
   "metadata": {},
   "source": []
  },
  {
   "cell_type": "markdown",
   "metadata": {},
   "source": [
    "### Homework Question 2\n",
    "\n",
    "Explain how Questions 3 and 6 from the lab demonstrate the *column* and *row* pictures of matrix multiplication respectively. Be sure to use the terms *dot product* and *linear combination* in your answer. Again, use both text and code."
   ]
  },
  {
   "cell_type": "code",
   "execution_count": 55,
   "metadata": {},
   "outputs": [
    {
     "name": "stdout",
     "output_type": "stream",
     "text": [
      "[[22 26 12]\n",
      " [52 56 30]\n",
      " [82 86 48]]\n",
      "[[22 26 12]\n",
      " [52 56 30]\n",
      " [82 86 48]]\n",
      "[[22 26 12]\n",
      " [52 56 30]\n",
      " [82 86 48]]\n",
      "\n",
      "30\n",
      "30\n"
     ]
    }
   ],
   "source": [
    "# 3. The column picture\n",
    "# In this problem we find the value of the dot product of A and B in three different ways\n",
    "# The first way we use numpy's built in operand\n",
    "# In the second we use the row representation of A and break down B into its column vectors then form an array of \n",
    "#     the dot products between the rows of A and the cols of B. This is similar to in class when we expanded Ax to \n",
    "#     a system of linear equations.\n",
    "# In the last method we break down A into columns and multiply them by scalars in B. This form shows the solution to the dot\n",
    "#     product as a matrix of linear combinations of A where the scalars are taken from B.\n",
    "print(A@B)\n",
    "print(np.array([A@B[:,0], A@B[:,1], A@B[:,2]]).T)\n",
    "c1 = B[0,0]*A[:,0] + B[1,0]*A[:,1] + B[2,0]*A[:,2]\n",
    "c2 = B[0,1]*A[:,0] + B[1,1]*A[:,1] + B[2,1]*A[:,2]\n",
    "c3 = B[0,2]*A[:,0] + B[1,2]*A[:,1] + B[2,2]*A[:,2]\n",
    "print(np.array([ c1,c2,c3 ]).T, end=\"\\n\\n\")\n",
    "\n",
    "# 6. The row picture\n",
    "# In order to find the value of (1,2) in the dot product matrix, we took one row of A and multiplied it by a column of B.\n",
    "# This interpretation of a dot product describes each element as a product of a row of A and a col from B.\n",
    "C = A @ B\n",
    "print(C[1,2])\n",
    "print(A[1] @ B[:,2])"
   ]
  },
  {
   "cell_type": "markdown",
   "metadata": {},
   "source": []
  },
  {
   "cell_type": "markdown",
   "metadata": {},
   "source": [
    "### Homework Question 3\n",
    "\n",
    "Submit your answers to Question 10 from the lab. You should typeset all matrices in LaTeX as part of your text below. Be sure to write complete sentences and full explanations."
   ]
  },
  {
   "cell_type": "markdown",
   "metadata": {},
   "source": [
    "Catherine is in Cowdogs;\n",
    "DeDreana is in Bearcats and Skunkpossums;\n",
    "Eimid is in all three organizations;\n",
    "Filipe is in Bearcats and Cowdogs;\n",
    "Galia is in Skunkpossums;\n",
    "Homer is in Bearcats and Skunkpossums.\n",
    "\n",
    "### 1. Membership Matrix\n",
    "#### A = $\\begin{bmatrix}\n",
    "1&0&0\\\\\n",
    "0&1&1\\\\\n",
    "0&1&0\\\\\n",
    "1&0&1\\\\\n",
    "1&1&1\\\\\n",
    "1&1&0\\\\\n",
    "0&0&1\\\\\n",
    "1&0&1\n",
    "\\end{bmatrix}$\n",
    "### 2. $A^TA$\n",
    "  1. 3x3 <br><br>\n",
    "\n",
    "  1. The rows/columns represent the organizations and their membership<br><br>\n",
    "\n",
    "  1. Compute the matrix by hand.<br><br>\n",
    "      #### ATxA = $\\begin{bmatrix}\n",
    "1&0&0&1&1&1&0&1\\\\ \n",
    "0&1&1&0&1&1&0&0\\\\ \n",
    "0&1&0&1&1&0&1&1\n",
    "\\end{bmatrix} * \\begin{bmatrix}\n",
    "1&0&0\\\\\n",
    "0&1&1\\\\\n",
    "0&1&0\\\\\n",
    "1&0&1\\\\\n",
    "1&1&1\\\\\n",
    "1&1&0\\\\\n",
    "0&0&1\\\\\n",
    "1&0&1\n",
    "\\end{bmatrix}= \\begin{bmatrix}\n",
    "5&2&3\\\\ 2&4&2\\\\ 3&2&5\n",
    "\\end{bmatrix}$<br><br>\n",
    "\n",
    "  1. The numbers on the diagonal represent the ith organizaion's total membership. The diagonals represent the sum when we multiplied an organizations membership vector by itself. Therefore it is the sum of each member in the organization. <br><br>\n",
    "  \n",
    "  1. The $(i,j)$ entries represent the amount of members that are in both organizations i and j. These entries represent multiplying the membership vector of one organization by another, this results in a sum of the vectors multiplied. It is the same as treating the vectors as bit strings and summing the result of an & operation.<br><br>\n",
    "  \n",
    "  1. They are the same because vector multiplication is commutative.<br><br>\n",
    "\n",
    "### 3. $AA^T$\n",
    "  1. 8x8 <br><br>\n",
    "\n",
    "  1. The rows/columns represent people and the organizations that they are associated with<br><br>\n",
    "\n",
    "  1. Compute the matrix by hand.<br><br>\n",
    "      #### ATxA = $\\begin{bmatrix}\n",
    "1&0&0\\\\\n",
    "0&1&1\\\\\n",
    "0&1&0\\\\\n",
    "1&0&1\\\\\n",
    "1&1&1\\\\\n",
    "1&1&0\\\\\n",
    "0&0&1\\\\\n",
    "1&0&1\n",
    "\\end{bmatrix} * \\begin{bmatrix}\n",
    "1&0&0&1&1&1&0&1\\\\ \n",
    "0&1&1&0&1&1&0&0\\\\ \n",
    "0&1&0&1&1&0&1&1\n",
    "\\end{bmatrix} = \\begin{bmatrix}\n",
    "1&0&0&1&1&1&0&1\\\\ \n",
    "0&2&1&1&2&1&1&1\\\\ \n",
    "0&1&1&0&1&1&0&0\\\\ \n",
    "1&1&0&2&2&1&1&2\\\\ \n",
    "1&2&1&2&3&2&1&2\\\\ \n",
    "1&1&1&1&2&2&0&1\\\\ \n",
    "0&1&0&1&1&0&1&1\\\\ \n",
    "1&1&0&2&2&1&1&2\\end{bmatrix}$<br><br>\n",
    "\n",
    "  1. The numbers on the diagonal represent the ith person's total membership. During calculation, the diagonals represent the sum when we multiplied an persons membership vector by itself. Therefore it is the sum of each organization that a person is enrolled in. <br><br>\n",
    "  \n",
    "  1. The $(i,j)$ entries represent shared organizations between person i and j. These entries represent multiplying the membership vector of one person by another, this results in a sum of the vectors multiplied. As before, this operation is the same as treating the vectors as bit strings and summing the result of an & operation.<br><br>\n",
    "  \n",
    "  1. Again, they are the same because vector multiplication is commutative.<br><br>"
   ]
  },
  {
   "cell_type": "markdown",
   "metadata": {},
   "source": [
    "### Homework Question 4\n",
    "\n",
    "Other than Paul Revere, pick one of the central actors identified at the end of the lab. Do some research on that person and submit a paragraph describing them and their role in the Revolutionary War. Submit this in the last textbox below, again using Markdown to format your answers. Be sure to cite your sources!"
   ]
  },
  {
   "cell_type": "markdown",
   "metadata": {},
   "source": [
    "<p> Samuel Adams was a key actor in the Revolutionary War. He originally protested the British taxation system which was imposed upon the American Colonies, for example the Stamp Act. He pushed for the colonies to unite and form a government, which happened in 1774. Adams had been actively publishing articles against the British rule, following the ideas of John Locke regarding individual freedoms. A letter, titled “Massachusetts Circular Letter” led to the boycott of British goods. The British imposition of tax on tea (known as the Tea Act), led to Adams and his underground political group, the Sons of Liberty to start ‘The Boston Tea Party’. Adams had helped spark the Revolutionary War along with his fellow agitators, and spent much of the war focusing on organising and establishing the way the new government would work. Source: https://www.history.com/topics/american-revolution/samuel-adams</p>"
   ]
  },
  {
   "cell_type": "markdown",
   "metadata": {},
   "source": [
    "### Homework Question 5\n",
    "\n",
    "Explain what the following code does, then rewrite it in a more NumPy-ish way. See Lab 1 for hints! You should be able to get the same result with one line of code! Test your code by taking any $4\\times 5$ matrix and checking that your code and this routine give the same answer on it.\n",
    "\n",
    "```python\n",
    "def addrows(A):\n",
    "    rows,cols = A.shape\n",
    "    \n",
    "    rowsum = np.zeros(rows)\n",
    "    \n",
    "    for row in range(rows):\n",
    "        for col in range(cols):\n",
    "            rowsum[row] += A[row,col]\n",
    "    \n",
    "    return rowsum\n",
    "```"
   ]
  },
  {
   "cell_type": "markdown",
   "metadata": {},
   "source": []
  },
  {
   "cell_type": "code",
   "execution_count": 59,
   "metadata": {},
   "outputs": [
    {
     "name": "stdout",
     "output_type": "stream",
     "text": [
      "[ 6. 15. 24.]\n"
     ]
    }
   ],
   "source": [
    "A= np.array([[1,2,3],[4,5,6],[7,8,9]])\n",
    "# print(A.sum(axis = 1)*1.0)\n",
    "B = A.astype(float).sum(axis=1)\n",
    "print(B)"
   ]
  },
  {
   "cell_type": "markdown",
   "metadata": {},
   "source": [
    "### Homework Question 6\n",
    "\n",
    "Write routines that take a matrix and return results as follows. It is also perfectly fine (perhaps better!) to give single lines of code that achieve the same result instead of routines. This is possible with all these, but much easier for second and third than the first.\n",
    "\n",
    "* *swaprows(A,i,j)* should take an array and return the same array, but with rows *i* and *j* swapped.\n",
    "* *rowmult(A,i,c)* should take an array, a row number *i* and a constant *c*, and return the same array, but with row *i* multiplied by *c*.\n",
    "* *rowaddmult(A,i,j,c)* should take an array, row numbers *i* and *j*, and a constant *c*, and return the same array, but with *c* multiplied by row *i* added to row *j*.\n",
    "\n",
    "As always, show examples of your code. Use a $4\\times 5$ array of your choice.\n",
    "\n",
    "> **Note:** We will use these routines/lines of code extensively in the coming labs. Get them right!"
   ]
  },
  {
   "cell_type": "code",
   "execution_count": 49,
   "metadata": {},
   "outputs": [
    {
     "name": "stdout",
     "output_type": "stream",
     "text": [
      "[[ 1  2  3  4  5]\n",
      " [ 4  5  6  7  8]\n",
      " [ 7  8  9 10 11]\n",
      " [-1 -1  0  1  1]]\n",
      "\n",
      "Swap rows 1 and 4\n",
      "[[-1 -1  0  1  1]\n",
      " [ 4  5  6  7  8]\n",
      " [ 7  8  9 10 11]\n",
      " [ 1  2  3  4  5]]\n",
      "\n",
      "Multiply row 2 by 10\n",
      "[[-1 -1  0  1  1]\n",
      " [40 50 60 70 80]\n",
      " [ 7  8  9 10 11]\n",
      " [ 1  2  3  4  5]]\n",
      "\n",
      "Add 5 times row 0 to row 1\n",
      "[[-1 -1  0  1  1]\n",
      " [35 45 60 75 85]\n",
      " [ 7  8  9 10 11]\n",
      " [ 1  2  3  4  5]]\n",
      "\n"
     ]
    }
   ],
   "source": [
    "#intialize sample 4 x 5 array to work with\n",
    "A = np.arange(20).reshape((4,5))\n",
    "\n",
    "#function to swap two rows given matrix and indices \n",
    "def swaprows(A,i,j): \n",
    "    A[[i,j]] = A[[j,i]]  #swap rows \n",
    "    return A\n",
    "\n",
    "#function to mutliply row of matrix A by scalar \n",
    "def rowmult(A,i,c):\n",
    "    A[i] = c * A[i] #scalar multiplication \n",
    "    return A\n",
    "\n",
    "#function to add mutliple (c) of row i to row j of matrix A\n",
    "def rowaddmult(A,i,j,c):\n",
    "    temp = c * A[i]    #store row to be added \n",
    "    A[j] += temp       #perform row replacement\n",
    "    return A\n",
    "    \n",
    "print(swaprows(A,1,2))\n",
    "print(rowmult(A,1,11))\n",
    "print(rowaddmult(A,1,-1,20))\n",
    "    "
   ]
  }
 ],
 "metadata": {
  "kernelspec": {
   "display_name": "Python 3",
   "language": "python",
   "name": "python3"
  },
  "language_info": {
   "codemirror_mode": {
    "name": "ipython",
    "version": 3
   },
   "file_extension": ".py",
   "mimetype": "text/x-python",
   "name": "python",
   "nbconvert_exporter": "python",
   "pygments_lexer": "ipython3",
   "version": "3.6.3"
  }
 },
 "nbformat": 4,
 "nbformat_minor": 2
}
