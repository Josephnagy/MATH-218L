{
 "cells": [
  {
   "cell_type": "markdown",
   "metadata": {},
   "source": [
    "> ## Make a copy of this notebook (File menu -> Make a Copy...)\n",
    "\n",
    "### Homework Question 1\n",
    "\n",
    "Rewrite your `PageRank(A)` function to compute the PageRank vector given our new defintion. It should now be `PageRank(A,p)`, given a value of $p$. You may want to use the `np.ones_like(A)` command to help you create the matrix $B$. Don't forget to account for dangling nodes!"
   ]
  },
  {
   "cell_type": "code",
   "execution_count": 0,
   "metadata": {},
   "outputs": [],
   "source": []
  },
  {
   "cell_type": "markdown",
   "metadata": {},
   "source": [
    "### Homework Question 2\n",
    "\n",
    "Draw a disconnected network with three nodes in one component and five in the other. Write down the link matrix for your network. Generate PageRank vectors for your network with various damping factors ranging from zero to one. Comment on and attempt to explain your results. Pay attention to the pattern of individual node probabilities as the damping factors increases, as well as to the probability of being in each component in the long-term. \n",
    "\n",
    "**Note:** Use [this link](https://graphonline.ru/en/) to draw your network. Once you have put in the vertices and the links, you can use Algorithms $\\rightarrow$ Arrange the Graph to make your network look nice. Then download the image and embed it in your MarkDown below (see the images in the lab to get code to do this)."
   ]
  },
  {
   "cell_type": "markdown",
   "metadata": {},
   "source": []
  },
  {
   "cell_type": "code",
   "execution_count": 0,
   "metadata": {},
   "outputs": [],
   "source": []
  },
  {
   "cell_type": "markdown",
   "metadata": {},
   "source": [
    "### Homework Question 3\n",
    "\n",
    "Draw a four node connected network such that three of the nodes all connect to one another, and the fourth has links from the other three, but does not link to anything. Then do a similar analysis to the one in the previous question. Include a picture of your network."
   ]
  },
  {
   "cell_type": "markdown",
   "metadata": {},
   "source": []
  },
  {
   "cell_type": "code",
   "execution_count": 0,
   "metadata": {},
   "outputs": [],
   "source": []
  },
  {
   "cell_type": "markdown",
   "metadata": {},
   "source": [
    "### Homework Question 4\n",
    "\n",
    "This question will ask you to explore some properties of link matrices for networks with different properties.\n",
    "\n",
    "  1. Show that the link matrix for a connected network with dangling nodes is necesarily *not* Markov.<br><br>\n",
    "  1. Show that the link matrix for a disconnected network is necessarily non-positive (that is, it has some entries that are not positive numbers).<br><br>\n",
    "  1. Use the probabilistic interpretation of the link matrix to argue why, for the link matrix $A$ of a disconnected network, $A^k$ is never positive for all integers $k>0$ (that is, for any value of $k$, explain why $A^k$ will always have zero entries).<br><br>\n",
    "  1. Suppose that in a network, a particular page has links to other pages, but no page links to it. What can you say about the entry corresponding to that page in the PageRank vector with damping factor 0? Explain.<br><br>\n",
    "  1. Show that by if $B$ is a Markov matrix of the same size as a given Markov link matrix for a network, in which all entries are equal, then for $0<p<1$, the matrix $(1-p)A+pB$ is positive and Markov.<br><br>\n",
    "  1. Draw a connected network such that a subset of nodes can only be reached on even steps, and the rest can only be reached on odd steps. Such a network is called a *2-periodic* network. Examine powers $A^k$ of the link matrix for your network for various $k$ and comment on them. (Bonus points: can you draw a 3-periodic network all of whose nodes have both incoming and outgoing links?)"
   ]
  },
  {
   "cell_type": "code",
   "execution_count": 0,
   "metadata": {},
   "outputs": [],
   "source": []
  }
 ],
 "metadata": {
  "kernelspec": {
   "display_name": "Python 3",
   "language": "python",
   "name": "python3"
  },
  "language_info": {
   "codemirror_mode": {
    "name": "ipython",
    "version": 3
   },
   "file_extension": ".py",
   "mimetype": "text/x-python",
   "name": "python",
   "nbconvert_exporter": "python",
   "pygments_lexer": "ipython3",
   "version": "3.6.3"
  }
 },
 "nbformat": 4,
 "nbformat_minor": 2
}
