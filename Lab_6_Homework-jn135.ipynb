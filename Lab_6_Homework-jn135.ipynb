{
 "cells": [
  {
   "cell_type": "markdown",
   "metadata": {},
   "source": [
    "> ## Make a copy of this notebook (File menu -> Make a Copy...)\n",
    "\n",
    "### Homework Question 1\n",
    "\n",
    "Write succinct and clear answers to the following questions:\n",
    "\n",
    "* Why do we want a predictor not to be *biased*?\n",
    "* Why do we want a predictor not to have large *variance*?\n",
    "* Why do these two often work in opposition to one another?"
   ]
  },
  {
   "cell_type": "markdown",
   "metadata": {},
   "source": [
    "1. Bias is the difference between our expected prediction from the model for a set of given inputs and the correct value for those inputs. A highly biased model will only be able to predict in situations very similar to those it was designed with. This means the model varies highly for different input data that varies highly. \n",
    "\n",
    "\n",
    "2. A model having high variance means that the model doesn't do well predicting new points. If you hope to have a model that can predict outside of the scope of the points you built it with, it is beneficial to have less variance.\n",
    "\n",
    "\n",
    "3. They typically work in opposition to each other because a high bias will result in a high concentration to a certain cluster area, thus reducing the possible places the points could be (like narrowing down on a specific zone)\n",
    "A high variance means the opposite, i.e. that there is a wide range of possible places the points could be, thus the points are typically not concentrated at any given cluster (which is a requisite for high bias)\n",
    "We see then that the two oppose each other by (typically) producing diametrically opposite effects on the output data"
   ]
  },
  {
   "cell_type": "markdown",
   "metadata": {},
   "source": [
    "### Homework Question 2\n",
    "For the same set of points as in Question 8 from the lab, find the best fit line. Also find a cubic function that passes through all the points precisely. Plot these functions, as well as the quadratic from Question 8, and your points. Rank the three functions in order of bias as a model for the data points, then in order of variance. \n",
    "\n",
    "**Note:** we have no real way of quantifying variance. Your answer should include some detail as to how you decide on your ranking. Question 3 from the lab may help."
   ]
  },
  {
   "cell_type": "code",
   "execution_count": 388,
   "metadata": {},
   "outputs": [],
   "source": [
    "# Imports\n",
    "import numpy as np\n",
    "import matplotlib.pyplot as plt\n",
    "from rref import rref\n",
    "\n",
    "# Old Functions\n",
    "#function to swap two rows given matrix and indices \n",
    "def swaprows(As,i,j): \n",
    "    As[[i,j]] = As[[j,i]] #swap rows \n",
    "    return As\n",
    "\n",
    "#function to add mutliple (c) of row i to row j of matrix A\n",
    "def rowaddmult(Am,i,j,c):\n",
    "    Am[j] += c * Am[i] #perform row replacement\n",
    "    return Am\n",
    "            \n",
    "def backsub(U, v):\n",
    "    r,c = U.shape\n",
    "    for x in reversed(range(0,r)):\n",
    "        v[x] -= v[x+1:r] @ U[x,x+1:c]\n",
    "        v[x] /= U[x,x]\n",
    "        \n",
    "def fwdsub(L, v):\n",
    "    r,c = L.shape\n",
    "    for x in range(1,r):\n",
    "        v[x] -= v[0:x] @ L[x,0:x]\n",
    "\n",
    "\n",
    "def LU(Ax):\n",
    "    U = Ax.copy()\n",
    "    L = np.zeros_like(Ax)\n",
    "    P = L.copy()\n",
    "    np.fill_diagonal(P, 1.)\n",
    "    r,c = U.shape\n",
    "    for x in range(r):\n",
    "        if x < r-1:\n",
    "            pivot = np.argmax(np.absolute(Ax[x:,x]))+x\n",
    "            if type(pivot)==type(Ax):\n",
    "                pivot = pivot[0]\n",
    "            swaprows(U,x,pivot)\n",
    "            swaprows(L,x,pivot)\n",
    "            swaprows(P,x,pivot)\n",
    "        for y in range(x+1, r):\n",
    "            c = U[y,x]/U[x,x]\n",
    "            rowaddmult(U, x, y, -c)\n",
    "            L[y,x] = c\n",
    "    np.fill_diagonal(L, 1.)\n",
    "    return (L,U,P)         \n",
    " \n",
    "def LUSolve(L, U, P, v):\n",
    "    v = P@v\n",
    "    fwdsub(L, v)\n",
    "    backsub(U, v)\n",
    "    return v"
   ]
  },
  {
   "cell_type": "code",
   "execution_count": 389,
   "metadata": {
    "scrolled": true
   },
   "outputs": [
    {
     "name": "stdout",
     "output_type": "stream",
     "text": [
      "[-0.01694915 -0.72881356]\n",
      "[ 2.24246231 -6.82035176 -3.99748744]\n",
      "[ 0.44166667  0.225      -6.21666667 -2.        ]\n"
     ]
    },
    {
     "data": {
      "text/plain": [
       "(50, -50)"
      ]
     },
     "execution_count": 389,
     "metadata": {},
     "output_type": "execute_result"
    },
    {
     "data": {
      "image/png": "[encoded data removed]",
      "text/plain": [
       "<Figure size 432x288 with 1 Axes>"
      ]
     },
     "metadata": {},
     "output_type": "display_data"
    }
   ],
   "source": [
    "# Code\n",
    "\n",
    "# Initialize data for different models\n",
    "A1 = np.array([[-1,1],[2,1],[0,1],[4,1]]).astype('float')\n",
    "A2 = np.array([[1,-1,1],[4,2,1],[0,0,1],[16,4,1]]).astype('float')\n",
    "A3 = np.array([[-1,1,-1,1],[8,4,2,1],[0,0,0,1],[64,16,4,1]]).astype('float')\n",
    "b = np.array([4,-10,-2,5]).astype('float')\n",
    "\n",
    "# Given matrix A and vector B returns the result of the normal equation\n",
    "def predict(A, b):\n",
    "    AtA = A.T@A\n",
    "    Atb = A.T@b\n",
    "    L,U,P = LU(AtA)\n",
    "    x_hat = LUSolve(L, U, P, Atb)\n",
    "    print(x_hat)\n",
    "    return x_hat\n",
    "\n",
    "# Take an x value, the power of x, and x coefficients\n",
    "# returns our model's prediction yhat\n",
    "def y_hat(x, d, x_hat):\n",
    "    pwr = np.arange(d+1)[::-1]\n",
    "    xaa = np.full((1, d+1), x)\n",
    "    xpwr = np.power(xaa, pwr)\n",
    "    return xpwr @ x_hat\n",
    "\n",
    "# Find coefficients\n",
    "xh1 = predict(A1, b)\n",
    "xh2 = predict(A2, b)\n",
    "xh3 = predict(A3, b)\n",
    "\n",
    "x = np.linspace(-25,25,100)\n",
    "\n",
    "# Map x values to y predictions\n",
    "y1 = np.array([y_hat(z, 1, xh1) for z in x])\n",
    "y2 = np.array([y_hat(z, 2, xh2) for z in x])\n",
    "y3 = np.array([y_hat(z, 3, xh3) for z in x])\n",
    "\n",
    "plt.plot(x,y1,'r')\n",
    "plt.plot(x,y2,'y')\n",
    "plt.plot(x,y3,'g')\n",
    "\n",
    "plt.scatter(A[:,1], b)\n",
    "\n",
    "# Add random noise and then see\n",
    "A_noise = A[:,1] +  (np.random.rand(1,A.shape[0])*5-2.5)\n",
    "b_noise = b + (np.random.rand(1,A.shape[0])*5-2.5)\n",
    "plt.scatter(A_noise, b_noise, c=\"black\")\n",
    "\n",
    "plt.ylim((50, -50)) "
   ]
  },
  {
   "cell_type": "markdown",
   "metadata": {},
   "source": [
    "# Answer\n",
    "Error|Variance|Bias|\n",
    "---|--- |::---|  \n",
    "Most | Cubic | Linear | \n",
    "... | Quadratic | Quadratic | \n",
    "Least | Linear | Cubic | \n",
    "\n",
    "Using a similar method from question 3 on the lab, we added random noise to each of the points. The random noise we added simulates natural variance that occurs in data. Comparing how well our models fit the 'new' data points we can make claims about their bias and variance. First for bias, we see that the cubic and quadratic functions fit the data very well (cubic performing slightly better) while the linear function does not capture much of the natural variance of the training data. As for variance, although the cubic and quadratic functions both are able to match the trends of the original 4 points, they struggle when it comes to fitting the newer points. It could be argued that they still give a better prediction for the random data but relative increase in error shows they they are more variable models."
   ]
  },
  {
   "cell_type": "markdown",
   "metadata": {},
   "source": [
    "### Homework Question 3\n",
    "Given your classifier from Question 14 in the lab, and given a point from your combined set of points, consider the question \"Is this point in the cluster on the top left?' Compute the following and explain your answers (note, this is similar to Question 15 from the lab):\n",
    "1. The probability of getting a false positive (that is, a 'yes' answer when the correct answer is 'no'.);\n",
    "1. The probability of getting a false negative (that is, a 'no' answer when the correct answer is 'yes'.).\n",
    "    \n",
    "**Note:** You may do this question using code, or using mathematical analysis of your line and clusters. Bonus points for doing both and explaining why your answers (may) differ."
   ]
  },
  {
   "cell_type": "markdown",
   "metadata": {},
   "source": [
    "The probability of a false negative is equal to the area of the intersection between lower right rectangle and our affine line divided by the total area of the rectangle. \n",
    "\n",
    "$$P=A^{i}/A=(Len^{vert}*Len^{horz}/2)/4^2=(8-vintersection)*(hintersection-8)/32$$\n",
    "\n",
    "$$vintersection=y=-(8a+c)/b$$\n",
    "\n",
    "$$hintersection=x=-(8b+c)/a$$\n",
    "\n",
    "$$P=(8+(8a+c)/b)*(-(8b+c)/a-8)/32$$\n",
    "\n",
    "and\n",
    "\n",
    "$$P=A^{i}/A=(Len^{vert}*Len^{horz}/2)/4^2=(vintersection-5)*(10-hintersection)/50$$\n",
    "\n",
    "$$vintersection=y=-(10a+c)/b$$\n",
    "\n",
    "$$hintersection=x=-(5b+c)/a$$\n",
    "\n",
    "$$P=(-(10a+c)/b-5)*(10+(5b+c)/a)/50$$\n",
    "\n",
    "\n",
    "The false negative and false positives will have different values because they represent different areas. Mathmatically:\n",
    "\n",
    "$$P^{+}=P^{T+}+P^{F-}$$\n",
    "$$P^{-}=P^{T-}+P^{F+}$$\n",
    "These values have no relation."
   ]
  },
  {
   "cell_type": "code",
   "execution_count": 390,
   "metadata": {},
   "outputs": [
    {
     "name": "stdout",
     "output_type": "stream",
     "text": [
      "[-0.30972355  0.23155183  1.18970227]\n",
      "Predicted false negatives  15.677194309214986\n",
      "Predicted false positives  13.876873552755251\n",
      "False negatives 20\n",
      "False positives 15\n"
     ]
    },
    {
     "data": {
      "image/png": "[encoded data removed]",
      "text/plain": [
       "<Figure size 432x288 with 1 Axes>"
      ]
     },
     "metadata": {},
     "output_type": "display_data"
    }
   ],
   "source": [
    "rx0 = np.random.rand(100)*5+5\n",
    "ry0 = np.random.rand(100)*5+5\n",
    "rx1 = np.random.rand(100)*4+8\n",
    "ry1 = np.random.rand(100)*4+4\n",
    "rx = np.concatenate((rx0,rx1))\n",
    "ry = np.concatenate((ry0,ry1))\n",
    "#(5,5)(5,5) and (10,10)(10,10), and the second cluster is in a rectangle cornered by (8,4)(8,4) and (12,8)\n",
    "plt.scatter(rx0,ry0,c='b')\n",
    "plt.scatter(rx1,ry1,c='r')\n",
    "\n",
    "rxy = np.ones((200,3))\n",
    "rxy[:,0] = rx\n",
    "rxy[:,1] = ry \n",
    "\n",
    "v = np.ones((1,200))[0,:]\n",
    "v[100:] *= -1\n",
    "\n",
    "AtA = rxy.T@rxy\n",
    "Atb = rxy.T@v\n",
    "\n",
    "L,U,P = LU(AtA)\n",
    "x_hat = LUSolve(L,U,P, Atb.T)\n",
    "\n",
    "print(x_hat)\n",
    "\n",
    "def y_hat_affine(x):\n",
    "    return (x * x_hat[0]/x_hat[1] + x_hat[-1]/x_hat[1])*-1\n",
    "\n",
    "x = np.linspace(-25,25,100)\n",
    "y = np.array([y_hat_affine(z) for z in x])\n",
    "plt.plot(x,y,'y')\n",
    "plt.ylim((0,16))\n",
    "plt.xlim((0,16))\n",
    "\n",
    "pred_fn = (10+ (5 * x_hat[1] + x_hat[2]) / x_hat[0])*(-1*(10* x_hat[0] + x_hat[2]) / x_hat[1] - 5)/50 * 100\n",
    "pred_fp = (8 + (8 * x_hat[0] + x_hat[2]) / x_hat[1])*(-1*(8 * x_hat[1] + x_hat[2]) / x_hat[0] - 8)/32 * 100\n",
    "print(\"Predicted false negatives \", pred_fn)\n",
    "print(\"Predicted false positives \", pred_fp)\n",
    "\n",
    "false_neg = 100-f(rx0,ry0,x_hat,0).sum()\n",
    "false_pos = f(rx1,ry1,x_hat,0).sum()\n",
    "print(\"False negatives\", false_neg)\n",
    "print(\"False positives\", false_pos)"
   ]
  },
  {
   "cell_type": "markdown",
   "metadata": {},
   "source": [
    "### Homework Question 4\n",
    "\n",
    "In Question 15 of the lab and Question 3 above, you likely used the criterion 'Is $f(x,y)$ positive or negative?' to decide which cluster the point was in. This may not be the best possible criterion given the data you generated. You might get better results if the question was 'Is $f(x,y)>c?$' for some non-zero number c.\n",
    "\n",
    "1. Given the data you generated, find the number c that gives the best classifier. Write code that zeros in on the best c by examining a series of possible numbers c between $-1$ and $1$. Perhaps start by looking at different c's separated by 0.1, then 'zoom in' once you know which two of those are 'best'. You should aim to get the best c (i.e. the one that minimizes the total error - false positives plus false negatives) to two or three decimal places. What criteria did you use to decide what the ideal c was?\n",
    "1. Generate another set of data in the same clusters, and apply your classifier to it with your ideal c from the first part of this question. Do you get the same error rate? Why or why not? "
   ]
  },
  {
   "cell_type": "code",
   "execution_count": 394,
   "metadata": {
    "scrolled": true
   },
   "outputs": [
    {
     "name": "stdout",
     "output_type": "stream",
     "text": [
      "c = 0\n",
      "Error = 35\n",
      "\n",
      "c = -0.075\n",
      "Error = 30\n"
     ]
    }
   ],
   "source": [
    "def f(x,y,x_hat,c):\n",
    "    return x*x_hat[0]+y*x_hat[1]+x_hat[2]>c\n",
    "\n",
    "false_neg = f(rx0,ry0,x_hat,0)\n",
    "false_pos = f(rx1,ry1,x_hat,0)\n",
    "zero_cost = 100 - false_neg.sum() + false_pos.sum()\n",
    "print(\"c = 0\")\n",
    "print(\"Error =\", zero_cost, end=\"\\n\\n\")\n",
    "\n",
    "def zoom(cmin, cmax, inc, prec):\n",
    "    if prec == 0:\n",
    "        return cmin+5*inc\n",
    "    min_cost = 100 - f(rx0,ry0,x_hat,cmin).sum() + f(rx1,ry1,x_hat,cmin).sum()\n",
    "    x = cmin\n",
    "    while x <= cmax:\n",
    "        t_cost = 100 - f(rx0,ry0,x_hat,x).sum() + f(rx1,ry1,x_hat,x).sum()\n",
    "        if t_cost < min_cost:\n",
    "            min_cost = t_cost\n",
    "            cmin = x\n",
    "        x += inc\n",
    "    inc /= 10\n",
    "    return zoom(cmin-5*inc, cmin+5*inc,inc, prec-1)\n",
    "\n",
    "\n",
    "c = zoom(-1, 1, .1, 3)\n",
    "\n",
    "false_neg = f(rx0,ry0,x_hat,c)\n",
    "false_pos = f(rx1,ry1,x_hat,c)\n",
    "c_cost = 100-false_neg.sum()+false_pos.sum()\n",
    "print(\"c =\", round(c,3))\n",
    "print(\"Error =\", c_cost)    "
   ]
  },
  {
   "cell_type": "markdown",
   "metadata": {},
   "source": [
    " **What criteria did you use to decide what the ideal c was?**<br>\n",
    " We minimized total error.<br><br>\n",
    " **Do you get the same error rate? Why or why not?**<br>\n",
    " No. The original data is randomly generated so sometimes more of the points are located in the ranges where they will be incorrectly classified. If all of the randomly generated points fell within the `2x3` intersection of the clusters then our model would have very high error. "
   ]
  }
 ],
 "metadata": {
  "kernelspec": {
   "display_name": "Python 3",
   "language": "python",
   "name": "python3"
  },
  "language_info": {
   "codemirror_mode": {
    "name": "ipython",
    "version": 3
   },
   "file_extension": ".py",
   "mimetype": "text/x-python",
   "name": "python",
   "nbconvert_exporter": "python",
   "pygments_lexer": "ipython3",
   "version": "3.6.3"
  }
 },
 "nbformat": 4,
 "nbformat_minor": 2
}
