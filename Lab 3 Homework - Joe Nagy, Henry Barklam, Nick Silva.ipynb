{
 "cells": [
  {
   "cell_type": "markdown",
   "metadata": {},
   "source": [
    "On this homework, you will see the need for *pivoting* (or row swaps) in row reduction algorithms. Two significant (and related) issues arise when row reducing. The first two questions explore these issues. For both of these questions, work without any row swaps.\n",
    "\n",
    "> ## Make a copy of this notebook (File menu -> Make a Copy...)\n",
    "\n",
    "### Homework Question 1\n",
    "\n",
    "Consider the matrix $$\\begin{bmatrix} 1 & 2 & 3 & -2\\\\ 2 & 4 & 1 &  0\\\\ 3 & 3 & 2 & 5 \\\\ -1 & 6 & 2 & 1\\end{bmatrix}.$$ Row-reduce this matrix by hand, then using your `rowred()` code from lab. What happens? Explain why the issue occurs."
   ]
  },
  {
   "cell_type": "markdown",
   "metadata": {},
   "source": [
    "$\\begin{bmatrix} 1 & 2 & 3 & -2\\\\ 2 & 4 & 1 &  0\\\\ 3 & 3 & 2 & 5 \\\\ -1 & 6 & 2 & 1\\end{bmatrix}$\n",
    "$\\rightarrow$\n",
    "$\\begin{bmatrix} 1 & 2 & 3 & -2\\\\ 0 & 0 & -5 &  4\\\\ 0 & -3 & -7 & 11 \\\\ 0 & 8 & 5 & -1\\end{bmatrix}$\n",
    "$\\rightarrow$\n",
    "$\\begin{bmatrix} 1 & 2 & 3 & -2\\\\ 0 & -3 & -7 & 11 \\\\ 0 & 0 & -5 &  4\\\\ 0 & 8 & 5 & -1\\end{bmatrix}$\n",
    "$\\rightarrow$\n",
    "$\\begin{bmatrix} 1 & 2 & 3 & -2\\\\ 0 & -3 & -7 & 11 \\\\ 0 & 0 & -5 &  4\\\\ 0 & 0 & -41/3 & 85/3\\end{bmatrix}$\n",
    "$\\rightarrow$\n",
    "$\\begin{bmatrix} 1 & 2 & 3 & -2\\\\ 0 & -3 & -7 & 11 \\\\ 0 & 0 & -5 &  4\\\\ 0 & 0 & 0 & 88/5\\end{bmatrix}$\n"
   ]
  },
  {
   "cell_type": "code",
   "execution_count": 1,
   "metadata": {},
   "outputs": [
    {
     "name": "stdout",
     "output_type": "stream",
     "text": [
      "The program crashes because of division by zero.\n",
      "[[  1.   2.   3.  -2.]\n",
      " [ nan  nan -inf  inf]\n",
      " [ nan  nan  nan  nan]\n",
      " [ nan  nan  nan  nan]]\n"
     ]
    },
    {
     "name": "stderr",
     "output_type": "stream",
     "text": [
      "/opt/conda/lib/python3.6/site-packages/ipykernel_launcher.py:22: RuntimeWarning: divide by zero encountered in double_scalars\n",
      "/opt/conda/lib/python3.6/site-packages/ipykernel_launcher.py:10: RuntimeWarning: invalid value encountered in multiply\n",
      "  # Remove the CWD from sys.path while we load stuff.\n"
     ]
    }
   ],
   "source": [
    "import numpy as np\n",
    "\n",
    "#function to swap two rows given matrix and indices \n",
    "def swaprows(A,i,j): \n",
    "    A[[i,j]] = A[[j,i]] #swap rows \n",
    "    return A\n",
    "\n",
    "#function to mutliply row of matrix A by scalar \n",
    "def rowmult(A,i,c):\n",
    "    A[i] = c * A[i] #scalar multiplication \n",
    "    return A\n",
    "\n",
    "#function to add mutliple (c) of row i to row j of matrix A\n",
    "def rowaddmult(A,i,j,c):\n",
    "    A[j] += c * A[i] #perform row replacement\n",
    "    return A\n",
    "\n",
    "# reduces a n array A by iterating through each row\n",
    "def rowred(A):\n",
    "    r,c = A.shape\n",
    "    for x in range(r):\n",
    "        # simplify each pivot to one\n",
    "        if A[x,x]!=1:\n",
    "            rowmult(A, x, 1/A[x,x])\n",
    "        # add current row times the value of the pivot column of other rows to other rows \n",
    "        for y in range(x+1, r):\n",
    "            rowaddmult(A, x, y, -A[y,x])\n",
    "            \n",
    "A = np.array([[1,2,3,-2],[2,4,1,0],[3,3,2,5],[-1,6,2,1]]).astype('float')\n",
    "rowred(A)\n",
    "print(\"The program crashes because of division by zero.\")\n",
    "print(A)"
   ]
  },
  {
   "cell_type": "markdown",
   "metadata": {},
   "source": [
    "### Homework Question 2\n",
    "\n",
    "Consider the following system of three simultaneous equations in three variables:\n",
    "\n",
    "$$\\begin{align*} 0.0001x_1 &+ 10,000x_3 &&= 10,000.0001 \\\\ 10,000x_1 &+ 0.0001x_2 &&= 10,000.0001\\\\10,000x_2 &+ x_3 &&= 10,001\\end{align*}$$\n",
    "\n",
    "1. Write this system as a matrix equation $Ax=v$. \n",
    "1. Row-reduce the system and solve it by hand. You should get a nice and simple answer. It may help to express everything as powers of 10, and to note that $$v=\\begin{bmatrix}10^4+10^{-4}\\\\ 10^{4}+10^{-4}\\\\ 10^4+1\\end{bmatrix}.$$ You might even be able to just spot the answer by looking at that, but row-reduce anyway. We'll need the hand-done row-reduction later in this homework.\n",
    "1. Use your work from Question 11 in the lab to solve the system using NumPy. Do you get the right answer?"
   ]
  },
  {
   "cell_type": "code",
   "execution_count": 5,
   "metadata": {},
   "outputs": [
    {
     "name": "stdout",
     "output_type": "stream",
     "text": [
      "Answer should be: [1,1,1]\n",
      "The computer's answer is : [1. 2. 1.]\n"
     ]
    }
   ],
   "source": [
    "def backsub(U, v):\n",
    "    r,c = U.shape\n",
    "    for x in reversed(range(0,r)):\n",
    "        # use the dot product method of back substitution\n",
    "        v[x] -= v[x+1:r]@U[x,x+1:c]\n",
    "        # make value equal to one\n",
    "        v[x] /= U[x,x]\n",
    "        \n",
    "A = np.array([[.0001,0,10000,10000.0001],[10000,.0001,0,10000.0001],[0,10000,1,10001]])\n",
    "\n",
    "rowred(A)\n",
    "# set v equal to the last col of the augmented matrix\n",
    "v = A[:,-1].copy()\n",
    "backsub(A[:,0:-1], v)\n",
    "\n",
    "print(\"Answer should be: [1,1,1]\")\n",
    "print(\"The computer's answer is :\", v)"
   ]
  },
  {
   "cell_type": "markdown",
   "metadata": {},
   "source": [
    "#### What's Going On?\n",
    "\n",
    "The issue in the first question above is relatively simple: a zero appears in a pivot position. We cannot divide by zero, and so we're stuck.\n",
    "\n",
    "The second question is more subtle. What happens there is an example of *floating point error*. While a full discussion of floating point error is beyond the scope of these labs, but the following question gives some insight:\n",
    "\n",
    "### Homework Question 3\n",
    "\n",
    "Look back at your hand-computed row-reduction from Homework Question 2. For each entry in the row-reduced augemented matrix, write down how many *significant figures* you'd need to write out each number in full. For example, the number 101 requires three significant figures, whereas 100 requires only one, since it can be written as $1e+02$ (i.e. $1\\times 10^2$). Likewise, 100.001 ($1.00001e+02$) requires six, as does 0.000100001 ($1.00001e-4$).\n",
    "\n",
    "Very briefly, floating point numbers can only hold a certain number of significant figures. Numbers requiring more than the limit are rounded. Run the following code, and use the output to find the maximum number of significant figures floats in Python can represent accurately. Explain your answer.\n",
    "```python\n",
    "for i in range(20):\n",
    "    print(i,float(10**i+1)-10**i)\n",
    "```\n",
    "\n",
    "Lastly, let's look at where the incorrectly represented numbers came from. Go back to your row reduction, and find the exact places where Python could no longer represent numbers accurately. Explain the following sentence:\n",
    "> *When we add two numbers of very different magnitudes, we may create numbers that cannot be accurately represented as floats.*\n",
    "\n",
    "As you saw in Homework Question 2, it is possible to construct relatively simple examples where the limit is exceeded, resulting in very incorrect results that do not round correctly.\n",
    "\n",
    "Note that we get a floating point issue within *A* itself, even without its augmented column. This will be important in the next lab."
   ]
  },
  {
   "cell_type": "markdown",
   "metadata": {},
   "source": [
    "**Our answers:**\n",
    "<br/>\n",
    "<br/>\n",
    "$\\begin{bmatrix}\n",
    "1&1&1\\\\\n",
    "1&1&1\\\\\n",
    "1&1&21\\\\\n",
    "\\end{bmatrix}$\n",
    "$\\begin{bmatrix}\n",
    "9\\\\\n",
    "17\\\\\n",
    "21\\\\\n",
    "\\end{bmatrix}$\n",
    "\n",
    "In python numbers are represented with a fixed number of bits, these bits can only represent a range of decimal integers. If a number has more significant digits than can be represented by that number of bits (64 in python) the least significant digits are truncated. "
   ]
  },
  {
   "cell_type": "code",
   "execution_count": 45,
   "metadata": {},
   "outputs": [
    {
     "name": "stdout",
     "output_type": "stream",
     "text": [
      "0 1.0\n",
      "1 1.0\n",
      "2 1.0\n",
      "3 1.0\n",
      "4 1.0\n",
      "5 1.0\n",
      "6 1.0\n",
      "7 1.0\n",
      "8 1.0\n",
      "9 1.0\n",
      "10 1.0\n",
      "11 1.0\n",
      "12 1.0\n",
      "13 1.0\n",
      "14 1.0\n",
      "15 1.0\n",
      "16 0.0\n",
      "17 0.0\n",
      "18 0.0\n",
      "19 0.0\n"
     ]
    }
   ],
   "source": [
    "for i in range(20):\n",
    "    print(i,float(10**i+1)-10**i)\n",
    "# Python only keeps 17 significant digits. The code above should return 1 for all i, however due to Python sig-figs\n",
    "# the lsd is cut off when there are more than 17 digits. \n",
    "\n",
    "# Specifically, python uses the IEEE-754 standard which specifies 53 bits of precision in a double. \n",
    "# From: https://docs.python.org/3/tutorial/floatingpoint.html\n"
   ]
  },
  {
   "cell_type": "markdown",
   "metadata": {},
   "source": [
    "To solve (or at least reduce) the problem we saw above, we use a strategy called *Maximal Partial Pivoting*. The idea is this: In a given row, look at all numbers in the column *below* the pivot. If there is a number whose magnitude (absolute value) is larger than the pivot, swap that row with the current one (if two rows have the same magnitude in that column, just pick the first to swap with). Then proceed with regular row reduction.\n",
    "\n",
    "### Homework Question 4\n",
    "\n",
    "By hand, carry out row reduction with MPP for the matrix $$\\begin{bmatrix} 1 & 2 & 2 \\\\ 2 & 1 & 2 \\\\ 2 & -1 & 2\\end{bmatrix}$$"
   ]
  },
  {
   "cell_type": "markdown",
   "metadata": {},
   "source": [
    "$\\begin{bmatrix}\n",
    "1&2&2\\\\\n",
    "2&1&2\\\\\n",
    "2&-1&2\\\\\n",
    "\\end{bmatrix}$\n",
    "$\\Rightarrow$\n",
    "$\\begin{bmatrix}\n",
    "2&1&2\\\\\n",
    "1&2&2\\\\\n",
    "2&-1&2\\\\\n",
    "\\end{bmatrix}$\n",
    "$\\Rightarrow$\n",
    "$\\begin{bmatrix}\n",
    "2&1&2\\\\\n",
    "0&1.5&1\\\\\n",
    "0&-2&0\\\\\n",
    "\\end{bmatrix}$\n",
    "$\\Rightarrow$\n",
    "$\\begin{bmatrix}\n",
    "2&1&2\\\\\n",
    "0&-2&0\\\\\n",
    "0&1.5&1\\\\\n",
    "\\end{bmatrix}$\n",
    "$\\Rightarrow$\n",
    "$\\begin{bmatrix}\n",
    "2&1&2\\\\\n",
    "0&-2&0\\\\\n",
    "0&0&1\\\\\n",
    "\\end{bmatrix}$\n",
    "$\\Rightarrow$\n",
    "$\\begin{bmatrix}\n",
    "1&.5&1\\\\\n",
    "0&1&0\\\\\n",
    "0&0&1\\\\\n",
    "\\end{bmatrix}$\n",
    "\n",
    "\n"
   ]
  },
  {
   "cell_type": "markdown",
   "metadata": {},
   "source": [
    "### Homework Question 5\n",
    "\n",
    "To find the index of the largest entry of a vector, use the command `np.argmax(v)`. Use this to modify your `rowred(A)` routine to create a new routine `rowredpivot(A)` that implements MPP. Test your code on the matrix from the last question, as well as the matrix from Homework Question 1.\n",
    "\n",
    "**Note: When testing for a swap, be sure to only test entries below the current pivot. You will need to be a little careful with the output from `np.argmax()`.**"
   ]
  },
  {
   "cell_type": "code",
   "execution_count": 10,
   "metadata": {},
   "outputs": [
    {
     "name": "stdout",
     "output_type": "stream",
     "text": [
      "Solved array from question 5:\n",
      " [[ 1.   0.5  1. ]\n",
      " [-0.   1.  -0. ]\n",
      " [ 0.   0.   1. ]]\n",
      "\n",
      "Solved array from question 1:\n",
      " [[ 1.          1.          0.66666667  1.66666667]\n",
      " [ 0.          1.          0.38095238  0.38095238]\n",
      " [ 0.          0.          1.         -2.07317073]\n",
      " [-0.         -0.         -0.          1.        ]]\n"
     ]
    }
   ],
   "source": [
    "def rowredpivot(A):\n",
    "    r,c = A.shape\n",
    "    for x in range(r):\n",
    "        # for all rows not at the bottom\n",
    "        if x < r-1:\n",
    "            # find row index with the highest value in the specified column\n",
    "            pivot = np.argmax(np.absolute(A[:,x]));\n",
    "            # convert the pivot (which could be an array) into an int\n",
    "            if type(pivot)==type(A):\n",
    "                pivot = pivot[0]\n",
    "            # set the next pivot row to the row defined by pivot\n",
    "            swaprows(A,x,pivot)\n",
    "            \n",
    "        if A[x,x]!=1:\n",
    "            rowmult(A, x, 1/A[x,x])\n",
    "        for y in range(x+1, r):\n",
    "            rowaddmult(A, x, y, -A[y,x])\n",
    "\n",
    "A = np.array([[1,2,2],[2,1,2],[2,-1,2]]).astype('float')\n",
    "rowredpivot(A)\n",
    "print(\"Solved array from question 5:\\n\", A, end=\"\\n\\n\")\n",
    "\n",
    "            \n",
    "Q1 = np.array([[1,2,3,-2],[2,4,1,0],[3,3,2,5],[-1,6,2,1]]).astype('float')\n",
    "rowredpivot(Q1)\n",
    "print(\"Solved array from question 1:\\n\", Q1)"
   ]
  },
  {
   "cell_type": "markdown",
   "metadata": {},
   "source": [
    "### Homework Question 6\n",
    "\n",
    "Repeat Homework Question 2 above with your new routine. You should get the right answer this time. Lastly, carry out row-reduction with MPP by hand for this system. You should still find that there are places where we get rounding errors. Can you explain why the answer you get from your routine is nonetheless correct? We will explore this more in depth on the next homework."
   ]
  },
  {
   "cell_type": "code",
   "execution_count": 6,
   "metadata": {},
   "outputs": [
    {
     "name": "stdout",
     "output_type": "stream",
     "text": [
      "Answer should be: [1,1,1]\n",
      "[1. 1. 1.]\n"
     ]
    }
   ],
   "source": [
    "A = np.array([[.0001,0,10000,10000.0001],[10000,.0001,0,10000.0001],[0,10000,1,10001]])\n",
    "\n",
    "rowredpivot(A)\n",
    "v = A[:,-1].copy()\n",
    "backsub(A[:,0:-1], v)\n",
    "\n",
    "print(\"Answer should be: [1,1,1]\")\n",
    "print(v)"
   ]
  },
  {
   "cell_type": "markdown",
   "metadata": {},
   "source": []
  }
 ],
 "metadata": {
  "kernelspec": {
   "display_name": "Python 3",
   "language": "python",
   "name": "python3"
  },
  "language_info": {
   "codemirror_mode": {
    "name": "ipython",
    "version": 3
   },
   "file_extension": ".py",
   "mimetype": "text/x-python",
   "name": "python",
   "nbconvert_exporter": "python",
   "pygments_lexer": "ipython3",
   "version": "3.6.3"
  }
 },
 "nbformat": 4,
 "nbformat_minor": 2
}
