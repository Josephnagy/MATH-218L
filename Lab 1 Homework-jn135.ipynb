{
 "cells": [
  {
   "cell_type": "markdown",
   "metadata": {},
   "source": [
    "# Homework Policy\n",
    "\n",
    "Homework in this class will largely constitute answers written into Jupyter notebooks, like this one. You will be expected to hand in homework assignments with your partner. All homework must be done with a partner - individual assignments will not be accepted. The name of the homework notebook submitted should contain the names of all students who worked on it.\n",
    "\n",
    "You may work on homework with others in the class, but are expected to hand in your own work. Specifically, any submitted code and text must be your own, written by you and your partner.  Copying and modifying code found either online or from a colleague will constitute plagiarism and will be treated as such.\n",
    "\n",
    "To submit homework, use Sakai. Each assignment will have a space for submission under the Assignments section of the Sakai site for this class. You may submit a Jupyter workbook and any additional materials required. To download a copy of this notebook, use **File menu -> Download as -> Notebook (.ipynb)** after renaming this worksheet.  All files submitted should be named with all partners' names. Each assignment will have a deadline. Late work will not be accepted without explicit permission from your instructor.\n",
    "\n",
    "All your text should be in Markdown (see a reference [here](https://github.com/adam-p/markdown-here/wiki/Markdown-Cheatsheet)). Mathematical notation should be typeset in LaTeX. If you double click on this box, you can see how to typeset 1-D arrays. By double clicking in various boxes in the lab, you can see how to typeset 2-D arrays and other useful notation. You should research basic LaTeX as needed online, or ask your teacher or TA. We'll be more than glad to help! \n",
    "\n",
    "You may insert as many code and text boxes as you need in these homework sheets.\n",
    "\n",
    "All your code should be clearly commented, including references to the question you are answering. If your instructor needs to dig through the questions and your answers to understand what you are doing, your grade will be lower. All your code should be executable by your instructor. If a block of code gives errors, your grade will be lowered. Variables with meaning should have sensible names.\n",
    "\n",
    "You will get a letter grade and brief comments on each of your assignments. In general, your grade and comments will be identical to your partners'. This class will not have a final or tests. Your grade will be based on homework. The class is not curved: you will be graded on your own work, not in comparison to others.\n",
    "\n",
    "> ## Make a copy of this notebook (File menu -> Make a Copy...)\n",
    "\n",
    "### Homework Question 1\n",
    "Write code to do the following:\n",
    "1. Create the 1-D arrays $v=\\begin{bmatrix} 4 & 4 & 8 & 10 & -2 & -7\\end{bmatrix}$, $w=\\begin{bmatrix} 5 & -10 & 3 & 9 & -1 & 12\\end{bmatrix}$, and $r=\\begin{bmatrix} 1 & -2 & 3 & -5 & 7 & -11\\end{bmatrix}$;\n",
    "1. Create $6\\times6$ arrays $A$ and $B$ with $v$ and $w$ on their respective diagonals.\n",
    "1. Multiply the two arrays pointwise to get a matrix $C$.\n",
    "1. Insert $r$ into the third row of $C$;\n",
    "1. Insert $v$ into the fourth column of $C$;\n",
    "1. Add the second row of $C$ to its fifth row;\n",
    "1. Divide the array whose top-left corner is the entry in the second row, third column, and whose bottom-right corner is the entry in the fourth row, fifth column of $C$ by 1.5.\n",
    "\n",
    "Print your final array."
   ]
  },
  {
   "cell_type": "code",
   "execution_count": 80,
   "metadata": {
    "scrolled": true
   },
   "outputs": [
    {
     "name": "stdout",
     "output_type": "stream",
     "text": [
      "[[ 20.           0.           0.           4.           0.\n",
      "    0.        ]\n",
      " [  0.         -40.           0.           2.66666667   0.\n",
      "    0.        ]\n",
      " [  1.          -2.           2.           5.33333333   4.66666667\n",
      "  -11.        ]\n",
      " [  0.           0.           0.           6.66666667   0.\n",
      "    0.        ]\n",
      " [  0.         -40.           0.           2.           2.\n",
      "    0.        ]\n",
      " [  0.           0.           0.          -7.           0.\n",
      "  -84.        ]]\n"
     ]
    }
   ],
   "source": [
    "import numpy as np\n",
    "#create 1-D Arrays\n",
    "v = np.array([4,4,8,10,-2,-7])\n",
    "w = np.array([5,-10,3,9,-1,12])\n",
    "r = np.array([1,-2,3,-5,7,-11])\n",
    "\n",
    "#create 6 x 6 arrays \n",
    "A = np.diag(v)\n",
    "B = np.diag(w)\n",
    "\n",
    "#multiply two arrays pointwise\n",
    "C = np.multiply(A,B)\n",
    "\n",
    "#insert r into 3rd row of C \n",
    "C[2] = r\n",
    "\n",
    "#insert v into 4th column of C\n",
    "C[:, 3] = v\n",
    "\n",
    "#add 2nd row of C to its 5th row\n",
    "C[4] += C[1]\n",
    "\n",
    "#divide array whose top-left corner is the entry in the second row, third column, \n",
    "#and whose bottom-right corner is the entry in the fourth row, fifth column of  CC  by 1.5\n",
    "C = C.astype(float)\n",
    "C[1:4,2:5] /= 1.5\n",
    "\n",
    "print(C)\n"
   ]
  },
  {
   "cell_type": "markdown",
   "metadata": {},
   "source": [
    "Later in the semester, we will need to do some array manipulation and data extraction in specific ways. The following questions will give you a chance to practice the techniques we will need.\n",
    "\n",
    "### Homework Question 2: Extracting Non-zero Columns\n",
    "\n",
    "Given a large array *A* of non-negative numbers, write code to return two arrays from it:\n",
    "1. The 1-D array listing the column indices of all columns of *A* whose sum is non-zero;\n",
    "2. The sub-array of *A* called *nonzerocols* consisting only of columns of *A* whose sum is non-zero.\n",
    "\n",
    "Your code should use ideas from lab, and should contain no loops. It maybe be useful for you to read the documentation of the `np.nonzero()` command (Careful! This command returns a tuple. Read the documentation carefully). Use the following command to load an array and use it to test your code: `A = np.load('./data/hw1array.npy')`.\n",
    "\n",
    "Print the following:\n",
    "* The array of non-zero column indices from the matrix *A* above (the output from the code you wrote in 1. above).\n",
    "* The array of average values of columns of *nonzerocols* for the same array."
   ]
  },
  {
   "cell_type": "code",
   "execution_count": 82,
   "metadata": {},
   "outputs": [
    {
     "name": "stdout",
     "output_type": "stream",
     "text": [
      "[26 30 43 60 65 77 80 84 90 97]\n",
      "[4.49       4.29       4.54333333 4.27666667 4.4        4.26666667\n",
      " 4.76666667 4.97333333 4.62666667 4.57666667]\n"
     ]
    }
   ],
   "source": [
    "A = np.load('./data/hw1array.npy')\n",
    "sums = A.sum(axis=0)  #1d array of column sums \n",
    "indicies = np.nonzero(sums)[0] #1d array of all indicies of A whose column sum is non-zero \n",
    "nonzerocols = A[:, indicies]  #1d array of columns from A using indicies \n",
    "print(indicies)\n",
    "print(np.average(nonzerocols, axis=0))  #print array of average values of columns of nonzerocols"
   ]
  },
  {
   "cell_type": "markdown",
   "metadata": {},
   "source": [
    "### Homework Question 3: Inserting a Column\n",
    "\n",
    "Given an array, write code to insert a new given column at the end of it. Your code should *not* use the `np.concatenate()` command. Rather, it should create a new array of the correct size, and insert the given array and column into it in the right places. Note that the code `rows,cols = A.shape` assigns the number of rows and columns of *A* to the *rows* and *cols* variables respectively.\n",
    "\n",
    "Show a test of your code on a $4\\times 5$ array."
   ]
  },
  {
   "cell_type": "code",
   "execution_count": 108,
   "metadata": {},
   "outputs": [
    {
     "name": "stdout",
     "output_type": "stream",
     "text": [
      "[[0. 0. 0. 0. 1.]\n",
      " [0. 0. 0. 0. 2.]\n",
      " [0. 0. 0. 0. 3.]\n",
      " [0. 0. 0. 0. 4.]]\n",
      "[1 2 3 4]\n"
     ]
    }
   ],
   "source": [
    "A = np.zeros((4,4))    #create  4x4 array of zeros\n",
    "rows,cols = A.shape    #copy rows and columns from A\n",
    "B = np.empty((rows,cols+1))  #initialize empty array of size 4x5\n",
    "col = np.array([1,2,3,4]).reshape((4))  #generate column to be inserted into B \n",
    "B[:,-1] = col  #set last column in B equal to new column \n",
    "print(B)\n",
    "print(col)"
   ]
  },
  {
   "cell_type": "markdown",
   "metadata": {},
   "source": [
    "### Homework Question 4: A Random Sample of Columns\n",
    "Given an $m\\times n$ array and an integer $r<n$, write code to return a random sample of *r* out of the *n* columns. Your code should return both the list of column indices chosen and the columns themselves.  You should read the [documention for the `np.random` module](https://docs.scipy.org/doc/numpy/reference/routines.random.html) to find commands that help you.\n",
    "\n",
    "Use the code `A = np.random.randint(10,size=(10,20))` to generate a random $10\\times 20$ array of integers less than 10 to test your code."
   ]
  },
  {
   "cell_type": "code",
   "execution_count": 115,
   "metadata": {},
   "outputs": [
    {
     "name": "stdout",
     "output_type": "stream",
     "text": [
      "[10 15 18 15  5 19  9  3 17  6 15  2  9  3]\n",
      "[[8 7 1 7 4 1 4 6 7 3 7 6 4 6]\n",
      " [0 2 1 2 6 5 5 2 9 6 2 7 5 2]\n",
      " [6 0 8 0 2 7 4 9 3 3 0 9 4 9]\n",
      " [0 2 7 2 0 4 6 9 8 6 2 7 6 9]\n",
      " [9 4 1 4 6 4 2 0 8 0 4 1 2 0]\n",
      " [6 3 5 3 5 7 1 1 2 8 3 0 1 1]\n",
      " [0 2 7 2 3 0 3 6 5 6 2 8 3 6]\n",
      " [1 3 0 3 3 8 6 3 9 8 3 8 6 3]\n",
      " [3 4 9 4 2 7 7 9 5 5 4 1 7 9]\n",
      " [5 2 5 2 6 2 6 1 5 2 2 3 6 1]]\n"
     ]
    }
   ],
   "source": [
    "A = np.random.randint(10,size=(10,20))  #random test array to work with \n",
    "r = np.random.randint(20) #random number of columns to pick\n",
    "rarray = np.random.randint(low=1, high=20, size=r)  #array of random columns \n",
    "print(rarray)\n",
    "randomcols = A[:, rarray]\n",
    "print(randomcols)"
   ]
  }
 ],
 "metadata": {
  "kernelspec": {
   "display_name": "Python 3",
   "language": "python",
   "name": "python3"
  },
  "language_info": {
   "codemirror_mode": {
    "name": "ipython",
    "version": 3
   },
   "file_extension": ".py",
   "mimetype": "text/x-python",
   "name": "python",
   "nbconvert_exporter": "python",
   "pygments_lexer": "ipython3",
   "version": "3.6.3"
  }
 },
 "nbformat": 4,
 "nbformat_minor": 2
}
